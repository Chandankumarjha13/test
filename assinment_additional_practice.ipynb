{
 "cells": [
  {
   "cell_type": "markdown",
   "metadata": {},
   "source": [
    "1) The function \"echo_name\" takes 2 parameters: a string value, \"name1\"and\n",
    "an integer value, \"echo_int\". It returns a string that is a concatenation of\n",
    "\"echo_int\" copies of \"name1\".\n",
    "Your task is to convert this simple function into a lambda function.\n",
    "Instructions:\n",
    "Define the lambda function \"echo_name\" using the variables \"name1\" and \"\n",
    "echo_int\". Replicate what the original function definition for \"echo_nam\n",
    "e ()\" does above.\n",
    "Call \"echo_name ()\" with the string argument 'acadgild' and the value 5,\n",
    "in that order. Assign the call to result\n",
    "Expected Output\n",
    "acadgildacadgildacadgildacadgildacadgild\n",
    "\n",
    "\n",
    "\n",
    "# Define a lambda function: echo_name\n",
    "echo_name = (lambda ***)\n",
    "# Call echo_name with parameters (\"acadgild\",5)\n",
    "result = echo_name (\"acadgild\",5)\n"
   ]
  },
  {
   "cell_type": "code",
   "execution_count": 1,
   "metadata": {},
   "outputs": [
    {
     "name": "stdout",
     "output_type": "stream",
     "text": [
      "acadgildacadgildacadgildacadgildacadgild\n"
     ]
    }
   ],
   "source": [
    "#Solution:\n",
    "# Define a lambda function: echo_name\n",
    "echo_name = (lambda name1, echo_int: name1 * echo_int)\n",
    "# Call echo_name with parameters (\"acadgild\",5)\n",
    "result = echo_name (\"acadgild\",5)\n",
    "print (result)"
   ]
  },
  {
   "cell_type": "markdown",
   "metadata": {},
   "source": [
    "2) Convert temperature in Celsius to Fahrenheit using map() and lambda\n",
    "functions\n",
    "Sample input\n",
    "Celsius = [49.2, 26.5, 47.3, 47.8]\n",
    "Expected Output\n",
    "[120.56, 79.7, 117.14, 118.03999999999999]"
   ]
  },
  {
   "cell_type": "code",
   "execution_count": 3,
   "metadata": {},
   "outputs": [
    {
     "name": "stdout",
     "output_type": "stream",
     "text": [
      "[120.56, 79.7, 117.14, 118.03999999999999]\n"
     ]
    }
   ],
   "source": [
    "def fahrenheit(celsius_temp):\n",
    "    return ((float(9)/5)*celsius_temp + 32)\n",
    "# Initialize list\n",
    "Celsius = [49.2, 26.5, 47.3, 47.8]\n",
    "#use map() and lambda,convert to Fahrenheit\n",
    "#map(function,list)\n",
    "temperatures_in_Fahrenheit = list(map(fahrenheit, Celsius))\n",
    "#print Fahrenheit\n",
    "print (temperatures_in_Fahrenheit)"
   ]
  },
  {
   "cell_type": "code",
   "execution_count": null,
   "metadata": {},
   "outputs": [],
   "source": [
    "Output:\n",
    " [120.56, 79.7, 117.14, 118.03999999999999]   "
   ]
  },
  {
   "cell_type": "markdown",
   "metadata": {},
   "source": [
    "3) The function filter(function, list) filters out all the elements of a list, for\n",
    "which the function function returns True.\n",
    "The function filter(f,l) needs a function f as its first argument. f re\n",
    "turns a Boolean value, i.e. either True or False. This function will be\n",
    "applied to every element of the list l. Only if f returns True will the\n",
    "element of the list be included in the result list\n",
    "Q. print the letters that are vowels using filter and lambda functions\n",
    "sample_string = \"Welcome to AcadGild\"\n",
    "Expected Output\n",
    "['e', 'o', 'e', 'o', 'A', 'a', 'i']"
   ]
  },
  {
   "cell_type": "code",
   "execution_count": 1,
   "metadata": {},
   "outputs": [
    {
     "name": "stdout",
     "output_type": "stream",
     "text": [
      "['e', 'o', 'e', 'o', 'A', 'a', 'i']\n"
     ]
    }
   ],
   "source": [
    "#Soln\n",
    "sample_string = \"Welcome to AcadGild\"\n",
    "vowels = \"aeiouAEIOU\"\n",
    "vowel_filter = lambda sent: [x for x in sent if x in vowels]\n",
    "finalVowel = vowel_filter(sample_string)\n",
    "\n",
    "print (finalVowel)\n"
   ]
  },
  {
   "cell_type": "markdown",
   "metadata": {},
   "source": [
    "Output:\n",
    "['e', 'o', 'e', 'o', 'A', 'a', 'i']  "
   ]
  },
  {
   "cell_type": "markdown",
   "metadata": {},
   "source": [
    "4) Use generator expression to print out only alphabets from the following string \n",
    "string = \"123@Welc34ometo12@ac#adGild\""
   ]
  },
  {
   "cell_type": "code",
   "execution_count": 2,
   "metadata": {},
   "outputs": [
    {
     "name": "stdout",
     "output_type": "stream",
     "text": [
      "W\n",
      "e\n",
      "l\n",
      "c\n",
      "o\n",
      "m\n",
      "e\n",
      "t\n",
      "o\n",
      "a\n",
      "c\n",
      "a\n",
      "d\n",
      "G\n",
      "i\n",
      "l\n",
      "d\n"
     ]
    }
   ],
   "source": [
    "#soln\n",
    "string = \"123@Welc34ometo12@ac#adGild\"\n",
    "gen_exp = (char for char in string if char.isalpha()) \n",
    "for x in gen_exp:\n",
    "    print(x)"
   ]
  },
  {
   "cell_type": "markdown",
   "metadata": {},
   "source": [
    "Output:\n",
    "W\n",
    "e\n",
    "l\n",
    "c\n",
    "o\n",
    "m\n",
    "e\n",
    "t\n",
    "o\n",
    "a\n",
    "c\n",
    "a\n",
    "d\n",
    "G\n",
    "i\n",
    "l\n",
    "d"
   ]
  },
  {
   "cell_type": "markdown",
   "metadata": {},
   "source": [
    "5) Implement a function longestWord() that takes a list of words and returns\n",
    "    the longest one.\n",
    "    Sample Word List\n",
    "    word= [\"January\",\"Feburary\",\"March\",\"April\",\"May\",\"June\",\"July\"]\n",
    "    Expected Output\n",
    "    ['Feburary']"
   ]
  },
  {
   "cell_type": "code",
   "execution_count": 7,
   "metadata": {},
   "outputs": [
    {
     "name": "stdout",
     "output_type": "stream",
     "text": [
      "['Feburary']\n"
     ]
    }
   ],
   "source": [
    "# Initialize the list\n",
    "word= [\"January\",\"Feburary\",\"March\",\"April\",\"May\",\"June\",\"July\"]\n",
    "#define function named longestWord with one parameter (arg_word)\n",
    "def longestWord(arg_word):\n",
    "    #use len(max()) to apply the logic\n",
    "    max_len = len(max(arg_word, key=len))\n",
    "    # iterate over the list arg_word and check which word has length = max_len and print\n",
    "    return [x for x in arg_word if len(x) == max_len]\n",
    "    #function call : longestWord and pass the list \"word\" as the parameter\n",
    "\n",
    "print(longestWord(word))"
   ]
  },
  {
   "cell_type": "code",
   "execution_count": null,
   "metadata": {},
   "outputs": [],
   "source": [
    "Output:\n",
    "    ['Feburary']"
   ]
  }
 ],
 "metadata": {
  "kernelspec": {
   "display_name": "Python 3",
   "language": "python",
   "name": "python3"
  },
  "language_info": {
   "codemirror_mode": {
    "name": "ipython",
    "version": 3
   },
   "file_extension": ".py",
   "mimetype": "text/x-python",
   "name": "python",
   "nbconvert_exporter": "python",
   "pygments_lexer": "ipython3",
   "version": "3.6.4"
  }
 },
 "nbformat": 4,
 "nbformat_minor": 2
}
